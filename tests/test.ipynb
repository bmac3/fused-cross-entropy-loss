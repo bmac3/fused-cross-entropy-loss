{
 "cells": [
  {
   "cell_type": "code",
   "execution_count": 1,
   "metadata": {},
   "outputs": [],
   "source": [
    "import einops\n",
    "import jax\n",
    "from jax import numpy as jnp\n",
    "import optax\n",
    "from fused_ce_loss import fused_ce_loss_fwd"
   ]
  },
  {
   "cell_type": "code",
   "execution_count": 16,
   "metadata": {},
   "outputs": [],
   "source": [
    "from jax import numpy as jnp\n",
    "from jax import random as jr\n",
    "\n",
    "vocab_size = 512\n",
    "embed_size = 128\n",
    "batch_size = 4\n",
    "seq_len = 32\n",
    "\n",
    "xs = jr.normal(jr.PRNGKey(0), (batch_size, seq_len, embed_size), dtype=jnp.bfloat16)\n",
    "ys = jr.randint(jr.PRNGKey(1), (batch_size, seq_len), minval=0, maxval=vocab_size)\n",
    "vocab = jr.normal(jr.PRNGKey(2), (vocab_size, embed_size), dtype=jnp.bfloat16)"
   ]
  },
  {
   "cell_type": "code",
   "execution_count": 17,
   "metadata": {},
   "outputs": [],
   "source": [
    "out = fused_ce_loss_fwd(xs, vocab, ys)"
   ]
  },
  {
   "cell_type": "code",
   "execution_count": 18,
   "metadata": {},
   "outputs": [],
   "source": [
    "def ref_ce_loss(xs, vocab, ys):\n",
    "    logits = jnp.einsum('bse,ve->bsv', xs, vocab)\n",
    "    return optax.softmax_cross_entropy_with_integer_labels(logits, ys)"
   ]
  },
  {
   "cell_type": "code",
   "execution_count": 19,
   "metadata": {},
   "outputs": [
    {
     "data": {
      "text/plain": [
       "Array([[0, 0, 0, 0, 0.125, 0, 0, 0, -0.125, 0.0625, -0.25, 0, -0.25, 0,\n",
       "        0, 0, 0, 0, 0, -0.25, 0, 0, 0, 0, -0.25, 0, -0.125, -0.25,\n",
       "        -0.125, -0.125, 0, 0],\n",
       "       [-0.125, 0, 0.125, 0, -0.00323486, 0, 0, 0, 0, 0, -0.25, -0.25, 0,\n",
       "        0, -0.125, 0, 0, 0.25, 0, 0, 0, 0.25, -0.125, 0, 0, -0.125, 0, 0,\n",
       "        0, 0, -0.125, 0.25],\n",
       "       [0, 0, -0.125, -0.125, 0, 0, -0.25, -0.25, 0, 0, 0, 0.125, -0.125,\n",
       "        -0.125, 0, 0, 0, 0, 0, 0, 0.125, 0.25, -0.25, 0, 0.125, 0.25,\n",
       "        -0.25, 0, 0, 0, 0, 0],\n",
       "       [-0.25, 0, 0, 0, 0, 0, -0.25, 0, -0.125, 0, 0, 0.0625, 0, 0.125,\n",
       "        0, -0.25, 0, 0.125, 0, 0, 0.25, -0.5, 0.25, 0, -0.25, 0, 0.25,\n",
       "        -0.125, 0.125, -0.125, 0, 0]], dtype=bfloat16)"
      ]
     },
     "execution_count": 19,
     "metadata": {},
     "output_type": "execute_result"
    }
   ],
   "source": [
    "ref_ce_loss(xs, vocab, ys) - out"
   ]
  },
  {
   "cell_type": "code",
   "execution_count": null,
   "metadata": {},
   "outputs": [],
   "source": []
  },
  {
   "cell_type": "code",
   "execution_count": 4,
   "metadata": {},
   "outputs": [
    {
     "data": {
      "text/plain": [
       "Array([[36, 26.75, 12.4375, 35.25, 29, 36.75, 39, 30.5, 25.125, 8.6875,\n",
       "        55, 37.5, 38.5, 33.5, 47, 43, 45.5, 48.25, 48.75, 45.5, 35.25,\n",
       "        23, 47.25, 36, 45.75, 28.125, 27.25, 45.75, 30.75, 14.875, 31.75,\n",
       "        38.5],\n",
       "       [25.75, 28.625, 31, 53.5, 0.00323486, 38.5, 28.875, 24.75, 38.5,\n",
       "        41.25, 54.75, 37, 33.25, 31.125, 23.375, 24.375, 66, 32.25, 23.5,\n",
       "        19.5, 25.5, 31.25, 27.75, 33.75, 32, 18, 51, 31.625, 46.5, 51.25,\n",
       "        24.375, 43],\n",
       "       [19, 56, 23, 23.125, 42.75, 28.75, 36.75, 58.5, 40.5, 43, 35.5,\n",
       "        23.625, 19.875, 20.5, 55, 26.125, 13.875, 42, 41, 40.5, 24.375,\n",
       "        37, 32.25, 28.75, 18, 33, 38, 11.5, 26.75, 22.875, 32.75, 32.75],\n",
       "       [56.75, 33.5, 21.5, 19.25, 26, 47.75, 39, 13.8125, 21.75, 34,\n",
       "        26.125, 11, 39.75, 28.25, 54, 54.25, 24.875, 26.875, 38.25,\n",
       "        40.25, 39.5, 65.5, 40, 36.75, 45, 50, 38.5, 25.875, 17, 30, 40,\n",
       "        39]], dtype=bfloat16)"
      ]
     },
     "execution_count": 4,
     "metadata": {},
     "output_type": "execute_result"
    }
   ],
   "source": [
    "out"
   ]
  },
  {
   "cell_type": "code",
   "execution_count": 6,
   "metadata": {},
   "outputs": [],
   "source": [
    "xs = einops.rearrange(xs, 'b s e -> (b s) e')\n",
    "ys = einops.rearrange(ys, 'b s -> (b s)')\n",
    "logits = einops.einsum(xs, vocab, 'b e, v e->b v')"
   ]
  },
  {
   "cell_type": "code",
   "execution_count": 7,
   "metadata": {},
   "outputs": [
    {
     "data": {
      "text/plain": [
       "(128, 128)"
      ]
     },
     "execution_count": 7,
     "metadata": {},
     "output_type": "execute_result"
    }
   ],
   "source": [
    "xs.shape"
   ]
  },
  {
   "cell_type": "code",
   "execution_count": 8,
   "metadata": {},
   "outputs": [
    {
     "data": {
      "text/plain": [
       "Array(410, dtype=int32)"
      ]
     },
     "execution_count": 8,
     "metadata": {},
     "output_type": "execute_result"
    }
   ],
   "source": [
    "ys[0]"
   ]
  },
  {
   "cell_type": "code",
   "execution_count": 9,
   "metadata": {},
   "outputs": [
    {
     "data": {
      "text/plain": [
       "Array([[-8.3125, 3.92188, 7.90625, ..., -11.5625, -20.875, 0.746094],\n",
       "       [-12.25, 5.5, -27.375, ..., -15, -14.375, 8.9375],\n",
       "       [-2.84375, 3.73438, 10.8125, ..., 3.14062, 1.03125, -3.42188],\n",
       "       ...,\n",
       "       [-4.34375, -16.5, -24.375, ..., 7, 3.01562, -19.5],\n",
       "       [0.188477, 8, -15.0625, ..., -14.25, 11.875, -2.51562],\n",
       "       [-10.875, -17.5, -19.75, ..., 2.67188, -9.9375, 15.3125]],      dtype=bfloat16)"
      ]
     },
     "execution_count": 9,
     "metadata": {},
     "output_type": "execute_result"
    }
   ],
   "source": [
    "logits[:, 64:]"
   ]
  },
  {
   "cell_type": "code",
   "execution_count": 10,
   "metadata": {},
   "outputs": [
    {
     "data": {
      "text/plain": [
       "Array([31.5], dtype=bfloat16)"
      ]
     },
     "execution_count": 10,
     "metadata": {},
     "output_type": "execute_result"
    }
   ],
   "source": [
    "logits_max = jnp.max(logits, axis=-1, keepdims=True)\n",
    "logits_max[0]"
   ]
  },
  {
   "cell_type": "code",
   "execution_count": 11,
   "metadata": {},
   "outputs": [
    {
     "data": {
      "text/plain": [
       "Array(-4.28125, dtype=bfloat16)"
      ]
     },
     "execution_count": 11,
     "metadata": {},
     "output_type": "execute_result"
    }
   ],
   "source": [
    "label_logits = jnp.take_along_axis(logits, ys[..., None], axis=-1)[..., 0]\n",
    "label_logits[0]"
   ]
  },
  {
   "cell_type": "code",
   "execution_count": 12,
   "metadata": {},
   "outputs": [],
   "source": [
    "norm_logits = logits - jax.lax.stop_gradient(logits_max)"
   ]
  },
  {
   "cell_type": "code",
   "execution_count": 13,
   "metadata": {},
   "outputs": [
    {
     "data": {
      "text/plain": [
       "Array(1.38281, dtype=bfloat16)"
      ]
     },
     "execution_count": 13,
     "metadata": {},
     "output_type": "execute_result"
    }
   ],
   "source": [
    "denom = jnp.sum(jnp.exp(norm_logits), axis=-1)\n",
    "denom[0]"
   ]
  },
  {
   "cell_type": "code",
   "execution_count": 14,
   "metadata": {},
   "outputs": [],
   "source": [
    "log_normalizers = jnp.log(denom)\n",
    "ref_ce_loss = -label_logits + logits_max[..., 0] + log_normalizers"
   ]
  },
  {
   "cell_type": "code",
   "execution_count": 15,
   "metadata": {},
   "outputs": [
    {
     "data": {
      "text/plain": [
       "Array([36, 26.75, 12.4375, 35.25, 29.125, 36.75, 39, 30.5, 25, 8.75,\n",
       "       54.75, 37.5, 38.25, 33.5, 47, 43, 45.5, 48.25, 48.75, 45.25, 35.25,\n",
       "       23, 47.25, 36, 45.5, 28.125, 27.125, 45.5, 30.625, 14.75, 31.75,\n",
       "       38.5, 25.625, 28.625, 31.125, 53.5, 0, 38.5, 28.875, 24.75, 38.5,\n",
       "       41.25, 54.5, 36.75, 33.25, 31.125, 23.25, 24.375, 66, 32.5, 23.5,\n",
       "       19.5, 25.5, 31.5, 27.625, 33.75, 32, 17.875, 51, 31.625, 46.5,\n",
       "       51.25, 24.25, 43.25, 19, 56, 22.875, 23, 42.75, 28.75, 36.5, 58.25,\n",
       "       40.5, 43, 35.5, 23.75, 19.75, 20.375, 55, 26.125, 13.875, 42, 41,\n",
       "       40.5, 24.5, 37.25, 32, 28.75, 18.125, 33.25, 37.75, 11.5, 26.75,\n",
       "       22.875, 32.75, 32.75, 56.5, 33.5, 21.5, 19.25, 26, 47.75, 38.75,\n",
       "       13.8125, 21.625, 34, 26.125, 11.0625, 39.75, 28.375, 54, 54,\n",
       "       24.875, 27, 38.25, 40.25, 39.75, 65, 40.25, 36.75, 44.75, 50,\n",
       "       38.75, 25.75, 17.125, 29.875, 40, 39], dtype=bfloat16)"
      ]
     },
     "execution_count": 15,
     "metadata": {},
     "output_type": "execute_result"
    }
   ],
   "source": [
    "ref_ce_loss"
   ]
  },
  {
   "cell_type": "code",
   "execution_count": 16,
   "metadata": {},
   "outputs": [
    {
     "data": {
      "text/plain": [
       "Array([[36, 26.75, 12.4375, 35.25, 29, 36.75, 39, 30.5, 25.125, 8.6875,\n",
       "        55, 37.5, 38.5, 33.5, 47, 43, 45.5, 48.25, 48.75, 45.5, 35.25,\n",
       "        23, 47.25, 36, 45.75, 28.125, 27.25, 45.75, 30.75, 14.875, 31.75,\n",
       "        38.5],\n",
       "       [25.75, 28.625, 31, 53.5, 0.00323486, 38.5, 28.875, 24.75, 38.5,\n",
       "        41.25, 54.75, 37, 33.25, 31.125, 23.375, 24.375, 66, 32.25, 23.5,\n",
       "        19.5, 25.5, 31.25, 27.75, 33.75, 32, 18, 51, 31.625, 46.5, 51.25,\n",
       "        24.375, 43],\n",
       "       [19, 56, 23, 23.125, 42.75, 28.75, 36.75, 58.5, 40.5, 43, 35.5,\n",
       "        23.625, 19.875, 20.5, 55, 26.125, 13.875, 42, 41, 40.5, 24.375,\n",
       "        37, 32.25, 28.75, 18, 33, 38, 11.5, 26.75, 22.875, 32.75, 32.75],\n",
       "       [56.75, 33.5, 21.5, 19.25, 26, 47.75, 39, 13.8125, 21.75, 34,\n",
       "        26.125, 11, 39.75, 28.25, 54, 54.25, 24.875, 26.875, 38.25,\n",
       "        40.25, 39.5, 65.5, 40, 36.75, 45, 50, 38.5, 25.875, 17, 30, 40,\n",
       "        39]], dtype=bfloat16)"
      ]
     },
     "execution_count": 16,
     "metadata": {},
     "output_type": "execute_result"
    }
   ],
   "source": [
    "out"
   ]
  },
  {
   "cell_type": "code",
   "execution_count": 14,
   "metadata": {},
   "outputs": [],
   "source": [
    "\n",
    "logits_max = jnp.max(logits, axis=-1, keepdims=True)\n",
    "norm_logit = logits - jax.lax.stop_gradient(logits_max)\n",
    "label_logits = jnp.take_along_axis(logits, ys[..., None], axis=-1)[..., 0]\n",
    "log_normalizers = jnp.log(jnp.sum(jnp.exp(logits), axis=-1))\n",
    "ref_ce_loss = log_normalizers - label_logits"
   ]
  },
  {
   "cell_type": "code",
   "execution_count": null,
   "metadata": {},
   "outputs": [],
   "source": []
  },
  {
   "cell_type": "code",
   "execution_count": 8,
   "metadata": {},
   "outputs": [
    {
     "data": {
      "text/plain": [
       "Array([36, 26.75, 12.4375, 35.25, 29.125, 36.75, 39, 30.5, 25, 8.75,\n",
       "       54.75, 37.5, 38.25, 33.5, 47, 43, 45.5, 48.25, 48.75, 45.25, 35.25,\n",
       "       23, 47.25, 36, 45.5, 28.125, 27.125, 45.5, 30.625, 14.75, 31.75,\n",
       "       38.5, 25.625, 28.625, 31.125, 53.5, 0, 38.5, 28.875, 24.75, 38.5,\n",
       "       41.25, 54.5, 36.75, 33.25, 31.125, 23.25, 24.375, 66, 32.5, 23.5,\n",
       "       19.5, 25.5, 31.5, 27.625, 33.75, 32, 17.875, 51, 31.625, 46.5,\n",
       "       51.25, 24.25, 43.25, 19, 56, 22.875, 23, 42.75, 28.75, 36.5, 58.25,\n",
       "       40.5, 43, 35.5, 23.75, 19.75, 20.375, 55, 26.125, 13.875, 42, 41,\n",
       "       40.5, 24.5, 37.25, 32, 28.75, 18.125, 33.25, 37.75, 11.5, 26.75,\n",
       "       22.875, 32.75, 32.75, 56.5, 33.5, 21.5, 19.25, 26, 47.75, 38.75,\n",
       "       13.8125, 21.625, 34, 26.125, 11.0625, 39.75, 28.375, 54, 54,\n",
       "       24.875, 27, 38.25, 40.25, 39.75, 65, 40.25, 36.75, 44.75, 50,\n",
       "       38.75, 25.75, 17.125, 29.875, 40, 39], dtype=bfloat16)"
      ]
     },
     "execution_count": 8,
     "metadata": {},
     "output_type": "execute_result"
    }
   ],
   "source": [
    "ref_ce_loss"
   ]
  },
  {
   "cell_type": "code",
   "execution_count": 18,
   "metadata": {},
   "outputs": [
    {
     "data": {
      "text/plain": [
       "Array([[-6.875, -11.5, -44, ..., -43, -52.5, -30.75],\n",
       "       [-38.75, -45, -23.75, ..., -53.75, -53, -29.75],\n",
       "       [-28.625, -46, -19, ..., -28.75, -30.875, -35.25],\n",
       "       ...,\n",
       "       [-49, -54, -43.75, ..., -35.5, -39.5, -62],\n",
       "       [-47.75, -54, -29.75, ..., -48.25, -22.125, -36.5],\n",
       "       [-32.25, -30.125, -37.25, ..., -29.875, -42.5, -17.25]],      dtype=bfloat16)"
      ]
     },
     "execution_count": 18,
     "metadata": {},
     "output_type": "execute_result"
    }
   ],
   "source": [
    "logits"
   ]
  },
  {
   "cell_type": "code",
   "execution_count": 17,
   "metadata": {},
   "outputs": [
    {
     "data": {
      "text/plain": [
       "(128, 512)"
      ]
     },
     "execution_count": 17,
     "metadata": {},
     "output_type": "execute_result"
    }
   ],
   "source": [
    "logits.shape"
   ]
  },
  {
   "cell_type": "code",
   "execution_count": 7,
   "metadata": {},
   "outputs": [
    {
     "data": {
      "text/plain": [
       "(4, 32, 512)"
      ]
     },
     "execution_count": 7,
     "metadata": {},
     "output_type": "execute_result"
    }
   ],
   "source": [
    "logits.shape"
   ]
  },
  {
   "cell_type": "code",
   "execution_count": 14,
   "metadata": {},
   "outputs": [],
   "source": [
    "label_logits = jnp.take_along_axis(logits, ys[..., None], axis=-1)[..., 0]"
   ]
  },
  {
   "cell_type": "code",
   "execution_count": 15,
   "metadata": {},
   "outputs": [
    {
     "data": {
      "text/plain": [
       "Array([-4.28125, 12.0625, 20.25, -7.8125, 15.625, -5.75, -5.125,\n",
       "       -0.310547, 9.875, 29.875, -19.875, -1.34375, -4.25, 11.5, -14.1875,\n",
       "       -10.8125, 1.90625, -14.1875, -11.3125, -9.8125, 10.8125, 6.8125,\n",
       "       -9.4375, 12.25, -11.375, 0.484375, 3.35938, -9, 7.6875, 19.25,\n",
       "       -1.78906, -2.17188], dtype=bfloat16)"
      ]
     },
     "execution_count": 15,
     "metadata": {},
     "output_type": "execute_result"
    }
   ],
   "source": [
    "label_logits[0]"
   ]
  },
  {
   "cell_type": "code",
   "execution_count": 8,
   "metadata": {},
   "outputs": [
    {
     "data": {
      "text/plain": [
       "Array([[31.5],\n",
       "       [38.75],\n",
       "       [31.875],\n",
       "       [26],\n",
       "       [44.75],\n",
       "       [31],\n",
       "       [33.25],\n",
       "       [29.875],\n",
       "       [34.75],\n",
       "       [38.5],\n",
       "       [34.75],\n",
       "       [36],\n",
       "       [34],\n",
       "       [45],\n",
       "       [32.75],\n",
       "       [32],\n",
       "       [47.5],\n",
       "       [34],\n",
       "       [37.5],\n",
       "       [35.5],\n",
       "       [46],\n",
       "       [29],\n",
       "       [37.5],\n",
       "       [48.25],\n",
       "       [33.75],\n",
       "       [28.125],\n",
       "       [29.5],\n",
       "       [36.25],\n",
       "       [38.25],\n",
       "       [34],\n",
       "       [29.375],\n",
       "       [36.25]], dtype=bfloat16)"
      ]
     },
     "execution_count": 8,
     "metadata": {},
     "output_type": "execute_result"
    }
   ],
   "source": [
    "logits_max[0]"
   ]
  },
  {
   "cell_type": "code",
   "execution_count": 6,
   "metadata": {},
   "outputs": [
    {
     "data": {
      "text/plain": [
       "Array([[36, 26.75, 12.4375, 35.25, 29.125, 36.75, 39, 30.5, 25, 8.75,\n",
       "        54.75, 37.5, 38.25, 33.5, 47, 43, 45.5, 48.25, 48.75, 45.25,\n",
       "        35.25, 23, 47.25, 36, 45.5, 28.125, 27.125, 45.5, 30.625, 14.75,\n",
       "        31.75, 38.5],\n",
       "       [25.625, 28.625, 31.125, 53.5, 0, 38.5, 28.875, 24.75, 38.5,\n",
       "        41.25, 54.5, 36.75, 33.25, 31.125, 23.25, 24.375, 66, 32.5, 23.5,\n",
       "        19.5, 25.5, 31.5, 27.625, 33.75, 32, 17.875, 51, 31.625, 46.5,\n",
       "        51.25, 24.25, 43.25],\n",
       "       [19, 56, 22.875, 23, 42.75, 28.75, 36.5, 58.25, 40.5, 43, 35.5,\n",
       "        23.75, 19.75, 20.375, 55, 26.125, 13.875, 42, 41, 40.5, 24.5,\n",
       "        37.25, 32, 28.75, 18.125, 33.25, 37.75, 11.5, 26.75, 22.875,\n",
       "        32.75, 32.75],\n",
       "       [56.5, 33.5, 21.5, 19.25, 26, 47.75, 38.75, 13.8125, 21.625, 34,\n",
       "        26.125, 11.0625, 39.75, 28.375, 54, 54, 24.875, 27, 38.25, 40.25,\n",
       "        39.75, 65, 40.25, 36.75, 44.75, 50, 38.75, 25.75, 17.125, 29.875,\n",
       "        40, 39]], dtype=bfloat16)"
      ]
     },
     "execution_count": 6,
     "metadata": {},
     "output_type": "execute_result"
    }
   ],
   "source": [
    "ref_ce_loss"
   ]
  },
  {
   "cell_type": "code",
   "execution_count": 10,
   "metadata": {},
   "outputs": [
    {
     "data": {
      "text/plain": [
       "Array([[-6.875, -11.5, -44, ..., -43, -52.5, -30.75],\n",
       "       [-38.75, -45, -23.75, ..., -53.75, -53, -29.75],\n",
       "       [-28.625, -46, -19, ..., -28.75, -30.875, -35.25],\n",
       "       ...,\n",
       "       [-20.5, -29.125, -22.25, ..., -27.5, -17.625, -41],\n",
       "       [-37.5, -18, -60.75, ..., -34.5, -45.75, -16.625],\n",
       "       [-33.25, -48, -21.25, ..., -30.375, -41.75, -44]], dtype=bfloat16)"
      ]
     },
     "execution_count": 10,
     "metadata": {},
     "output_type": "execute_result"
    }
   ],
   "source": [
    "logits[0]"
   ]
  },
  {
   "cell_type": "code",
   "execution_count": 9,
   "metadata": {},
   "outputs": [
    {
     "data": {
      "text/plain": [
       "Array([1.38281, 1, 2.21875, 4.25, 1, 1.01562, 1.78906, 1.42188, 1.16406,\n",
       "       1.125, 1.25, 1.28125, 1.125, 1, 1.03125, 1.23438, 1, 1.04688,\n",
       "       1.00781, 1.11719, 1, 2.14062, 1.36719, 1, 1.75, 1.64062, 2.76562,\n",
       "       1.42188, 1.20312, 1.00781, 1.9375, 1.00781], dtype=bfloat16)"
      ]
     },
     "execution_count": 9,
     "metadata": {},
     "output_type": "execute_result"
    }
   ],
   "source": [
    "jnp.sum(jnp.exp(logits), axis=-1)[0]"
   ]
  },
  {
   "cell_type": "code",
   "execution_count": 11,
   "metadata": {},
   "outputs": [
    {
     "data": {
      "text/plain": [
       "Array([0.324219, 0, 0.796875, 1.44531, 0, 0.0155029, 0.582031, 0.351562,\n",
       "       0.152344, 0.117676, 0.222656, 0.248047, 0.117676, 0, 0.0307617,\n",
       "       0.210938, 0, 0.0458984, 0.00778198, 0.11084, 0, 0.761719, 0.3125,\n",
       "       0, 0.558594, 0.494141, 1.01562, 0.351562, 0.18457, 0.00778198,\n",
       "       0.660156, 0.00778198], dtype=bfloat16)"
      ]
     },
     "execution_count": 11,
     "metadata": {},
     "output_type": "execute_result"
    }
   ],
   "source": [
    "log_normalizers[0]"
   ]
  },
  {
   "cell_type": "code",
   "execution_count": 27,
   "metadata": {},
   "outputs": [
    {
     "data": {
      "text/plain": [
       "Array([[0, 0, 0, 0, 0, 0, 0, 0, 0, 0, 0, 0, 0, 0, 0, 0, 0, 0, 0, 0, 0, 0,\n",
       "        0, 0, 0, 0, 0, 0, 0, 0, 0, 0],\n",
       "       [0, 0, 0, 0, 0, 0, 0, 0, 0, 0, 0, 0, 0, 0, 0, 0, 0, 0, 0, 0, 0, 0,\n",
       "        0, 0, 0, 0, 0, 0, 0, 0, 0, 0],\n",
       "       [0, 0, 0, 0, 0, 0, 0, 0, 0, 0, 0, 0, 0, 0, 0, 0, 0, 0, 0, 0, 0, 0,\n",
       "        0, 0, 0, 0, 0, 0, 0, 0, 0, 0],\n",
       "       [0, 0, 0, 0, 0, 0, 0, 0, 0, 0, 0, 0, 0, 0, 0, 0, 0, 0, 0, 0, 0, 0,\n",
       "        0, 0, 0, 0, 0, 0, 0, 0, 0, 0]], dtype=bfloat16)"
      ]
     },
     "execution_count": 27,
     "metadata": {},
     "output_type": "execute_result"
    }
   ],
   "source": [
    "label_logits"
   ]
  },
  {
   "cell_type": "code",
   "execution_count": null,
   "metadata": {},
   "outputs": [],
   "source": []
  },
  {
   "cell_type": "code",
   "execution_count": 22,
   "metadata": {},
   "outputs": [
    {
     "data": {
      "text/plain": [
       "Array([[6.25, 6.25, 6.25, 6.25, 6.25, 6.25, 6.25, 6.25, 6.25, 6.25, 6.25,\n",
       "        6.25, 6.25, 6.25, 6.25, 6.25, 6.25, 6.25, 6.25, 6.25, 6.25, 6.25,\n",
       "        6.25, 6.25, 6.25, 6.25, 6.25, 6.25, 6.25, 6.25, 6.25, 6.25],\n",
       "       [6.25, 6.25, 6.25, 6.25, 6.25, 6.25, 6.25, 6.25, 6.25, 6.25, 6.25,\n",
       "        6.25, 6.25, 6.25, 6.25, 6.25, 6.25, 6.25, 6.25, 6.25, 6.25, 6.25,\n",
       "        6.25, 6.25, 6.25, 6.25, 6.25, 6.25, 6.25, 6.25, 6.25, 6.25],\n",
       "       [6.25, 6.25, 6.25, 6.25, 6.25, 6.25, 6.25, 6.25, 6.25, 6.25, 6.25,\n",
       "        6.25, 6.25, 6.25, 6.25, 6.25, 6.25, 6.25, 6.25, 6.25, 6.25, 6.25,\n",
       "        6.25, 6.25, 6.25, 6.25, 6.25, 6.25, 6.25, 6.25, 6.25, 6.25],\n",
       "       [6.25, 6.25, 6.25, 6.25, 6.25, 6.25, 6.25, 6.25, 6.25, 6.25, 6.25,\n",
       "        6.25, 6.25, 6.25, 6.25, 6.25, 6.25, 6.25, 6.25, 6.25, 6.25, 6.25,\n",
       "        6.25, 6.25, 6.25, 6.25, 6.25, 6.25, 6.25, 6.25, 6.25, 6.25]],      dtype=bfloat16)"
      ]
     },
     "execution_count": 22,
     "metadata": {},
     "output_type": "execute_result"
    }
   ],
   "source": [
    "ref_ce_loss(xs, vocab, ys)"
   ]
  },
  {
   "cell_type": "code",
   "execution_count": null,
   "metadata": {},
   "outputs": [],
   "source": []
  },
  {
   "cell_type": "code",
   "execution_count": 11,
   "metadata": {},
   "outputs": [
    {
     "ename": "AssertionError",
     "evalue": "",
     "output_type": "error",
     "traceback": [
      "\u001b[0;31m---------------------------------------------------------------------------\u001b[0m",
      "\u001b[0;31mAssertionError\u001b[0m                            Traceback (most recent call last)",
      "Cell \u001b[0;32mIn[11], line 1\u001b[0m\n\u001b[0;32m----> 1\u001b[0m \u001b[38;5;28;01massert\u001b[39;00m jnp\u001b[38;5;241m.\u001b[39mallclose(ref_ce_loss(xs, ys, vocab), fused_ce_loss_fwd(xs, ys, vocab))\n",
      "\u001b[0;31mAssertionError\u001b[0m: "
     ]
    }
   ],
   "source": [
    "assert jnp.allclose(ref_ce_loss(xs, ys, vocab), fused_ce_loss_fwd(xs, ys, vocab))"
   ]
  },
  {
   "cell_type": "code",
   "execution_count": null,
   "metadata": {},
   "outputs": [],
   "source": []
  }
 ],
 "metadata": {
  "kernelspec": {
   "display_name": "Python 3",
   "language": "python",
   "name": "python3"
  },
  "language_info": {
   "codemirror_mode": {
    "name": "ipython",
    "version": 3
   },
   "file_extension": ".py",
   "mimetype": "text/x-python",
   "name": "python",
   "nbconvert_exporter": "python",
   "pygments_lexer": "ipython3",
   "version": "3.11.9"
  }
 },
 "nbformat": 4,
 "nbformat_minor": 2
}
