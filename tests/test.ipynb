{
 "cells": [
  {
   "cell_type": "code",
   "execution_count": 1,
   "metadata": {},
   "outputs": [],
   "source": [
    "from fused_ce_loss import fused_ce_loss_fwd"
   ]
  },
  {
   "cell_type": "code",
   "execution_count": 2,
   "metadata": {},
   "outputs": [],
   "source": [
    "from jax import numpy as jnp\n",
    "from jax import random as jr\n",
    "\n",
    "vocab_size = 50257\n",
    "embed_size = 768\n",
    "batch_size = 32\n",
    "seq_len = 128\n",
    "\n",
    "xs = jr.normal(jr.PRNGKey(0), (batch_size, seq_len, embed_size), dtype=jnp.bfloat16)\n",
    "ys = jr.randint(jr.PRNGKey(1), (batch_size, seq_len), minval=0, maxval=vocab_size)\n",
    "vocab = jr.normal(jr.PRNGKey(1), (vocab_size, embed_size), dtype=jnp.bfloat16)"
   ]
  },
  {
   "cell_type": "code",
   "execution_count": null,
   "metadata": {},
   "outputs": [],
   "source": [
    "def ref_ce_loss(xs, vocab):\n",
    "    logits = "
   ]
  },
  {
   "cell_type": "code",
   "execution_count": 4,
   "metadata": {},
   "outputs": [
    {
     "data": {
      "text/plain": [
       "(32, 128)"
      ]
     },
     "execution_count": 4,
     "metadata": {},
     "output_type": "execute_result"
    }
   ],
   "source": [
    "fused_ce_loss_fwd(xs, vocab).shape"
   ]
  },
  {
   "cell_type": "code",
   "execution_count": 8,
   "metadata": {},
   "outputs": [],
   "source": [
    "out = fused_ce_loss_fwd(xs, vocab)"
   ]
  },
  {
   "cell_type": "code",
   "execution_count": 9,
   "metadata": {},
   "outputs": [
    {
     "data": {
      "text/plain": [
       "jaxlib.xla_extension.ArrayImpl"
      ]
     },
     "execution_count": 9,
     "metadata": {},
     "output_type": "execute_result"
    }
   ],
   "source": [
    "type(out)"
   ]
  },
  {
   "cell_type": "code",
   "execution_count": 10,
   "metadata": {},
   "outputs": [
    {
     "data": {
      "text/plain": [
       "Array([[1.60156, 1.60156, 1.60156, ..., 1.60156, 1.60156, 1.60156],\n",
       "       [1.60156, 1.60156, 1.60156, ..., 1.60156, 1.60156, 1.60156],\n",
       "       [1.60156, 1.60156, 1.60156, ..., 1.60156, 1.60156, 1.60156],\n",
       "       ...,\n",
       "       [1.60156, 1.60156, 1.60156, ..., 1.60156, 1.60156, 1.60156],\n",
       "       [1.60156, 1.60156, 1.60156, ..., 1.60156, 1.60156, 1.60156],\n",
       "       [1.60156, 1.60156, 1.60156, ..., 1.60156, 1.60156, 1.60156]],      dtype=bfloat16)"
      ]
     },
     "execution_count": 10,
     "metadata": {},
     "output_type": "execute_result"
    }
   ],
   "source": [
    "out"
   ]
  },
  {
   "cell_type": "code",
   "execution_count": 15,
   "metadata": {},
   "outputs": [
    {
     "data": {
      "text/plain": [
       "{cuda(id=0)}"
      ]
     },
     "execution_count": 15,
     "metadata": {},
     "output_type": "execute_result"
    }
   ],
   "source": [
    "out.devices()"
   ]
  },
  {
   "cell_type": "code",
   "execution_count": null,
   "metadata": {},
   "outputs": [],
   "source": []
  }
 ],
 "metadata": {
  "kernelspec": {
   "display_name": "Python 3",
   "language": "python",
   "name": "python3"
  },
  "language_info": {
   "codemirror_mode": {
    "name": "ipython",
    "version": 3
   },
   "file_extension": ".py",
   "mimetype": "text/x-python",
   "name": "python",
   "nbconvert_exporter": "python",
   "pygments_lexer": "ipython3",
   "version": "3.10.12"
  }
 },
 "nbformat": 4,
 "nbformat_minor": 2
}
