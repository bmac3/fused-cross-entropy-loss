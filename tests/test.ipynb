{
 "cells": [
  {
   "cell_type": "code",
   "execution_count": 8,
   "metadata": {},
   "outputs": [],
   "source": [
    "from jax import numpy as jnp\n",
    "import optax\n",
    "from fused_ce_loss import fused_ce_loss_fwd"
   ]
  },
  {
   "cell_type": "code",
   "execution_count": 2,
   "metadata": {},
   "outputs": [],
   "source": [
    "from jax import numpy as jnp\n",
    "from jax import random as jr\n",
    "\n",
    "vocab_size = 50257\n",
    "embed_size = 768\n",
    "batch_size = 32\n",
    "seq_len = 128\n",
    "\n",
    "xs = jr.normal(jr.PRNGKey(0), (batch_size, seq_len, embed_size), dtype=jnp.bfloat16)\n",
    "ys = jr.randint(jr.PRNGKey(1), (batch_size, seq_len), minval=0, maxval=vocab_size)\n",
    "vocab = jr.normal(jr.PRNGKey(2), (vocab_size, embed_size), dtype=jnp.bfloat16)"
   ]
  },
  {
   "cell_type": "code",
   "execution_count": 9,
   "metadata": {},
   "outputs": [],
   "source": [
    "def ref_ce_loss(xs, ys, vocab):\n",
    "    logits = jnp.einsum('b s e, v e->b s v', xs, vocab)\n",
    "    return optax.losses.softmax_cross_entropy_with_integer_labels(logits, ys)"
   ]
  },
  {
   "cell_type": "code",
   "execution_count": 11,
   "metadata": {},
   "outputs": [
    {
     "ename": "AssertionError",
     "evalue": "",
     "output_type": "error",
     "traceback": [
      "\u001b[0;31m---------------------------------------------------------------------------\u001b[0m",
      "\u001b[0;31mAssertionError\u001b[0m                            Traceback (most recent call last)",
      "Cell \u001b[0;32mIn[11], line 1\u001b[0m\n\u001b[0;32m----> 1\u001b[0m \u001b[38;5;28;01massert\u001b[39;00m jnp\u001b[38;5;241m.\u001b[39mallclose(ref_ce_loss(xs, ys, vocab), fused_ce_loss_fwd(xs, ys, vocab))\n",
      "\u001b[0;31mAssertionError\u001b[0m: "
     ]
    }
   ],
   "source": [
    "assert jnp.allclose(ref_ce_loss(xs, ys, vocab), fused_ce_loss_fwd(xs, ys, vocab))"
   ]
  },
  {
   "cell_type": "code",
   "execution_count": null,
   "metadata": {},
   "outputs": [],
   "source": []
  }
 ],
 "metadata": {
  "kernelspec": {
   "display_name": "Python 3",
   "language": "python",
   "name": "python3"
  },
  "language_info": {
   "codemirror_mode": {
    "name": "ipython",
    "version": 3
   },
   "file_extension": ".py",
   "mimetype": "text/x-python",
   "name": "python",
   "nbconvert_exporter": "python",
   "pygments_lexer": "ipython3",
   "version": "3.10.12"
  }
 },
 "nbformat": 4,
 "nbformat_minor": 2
}
